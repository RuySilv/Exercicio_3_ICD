{
 "cells": [
  {
   "cell_type": "markdown",
   "metadata": {},
   "source": [
    "# Introdução à Ciência de Dados - UFPB\n",
    "Professor: Yuri Malheiros\n",
    "\n",
    "## Correlação"
   ]
  },
  {
   "cell_type": "markdown",
   "metadata": {},
   "source": [
    "Colete os seguintes dados dos times do campeonato brasileiro de 2020:\n",
    "\n",
    "- Pontos\n",
    "- Gols marcados\n",
    "- Gol sofridos\n",
    "\n",
    "Você pode encontrar esses dados no site da CBF (www.cbf.com.br)\n",
    "\n",
    "Calcule a correlação entre:\n",
    "\n",
    "- Pontos e gols marcados\n",
    "- Pontos e gols sofridos"
   ]
  },
  {
   "cell_type": "markdown",
   "metadata": {},
   "source": [
    "### Correlação entre Pontos e gols marcados"
   ]
  },
  {
   "cell_type": "code",
   "execution_count": 5,
   "metadata": {},
   "outputs": [
    {
     "data": {
      "text/html": [
       "<div>\n",
       "<style scoped>\n",
       "    .dataframe tbody tr th:only-of-type {\n",
       "        vertical-align: middle;\n",
       "    }\n",
       "\n",
       "    .dataframe tbody tr th {\n",
       "        vertical-align: top;\n",
       "    }\n",
       "\n",
       "    .dataframe thead th {\n",
       "        text-align: right;\n",
       "    }\n",
       "</style>\n",
       "<table border=\"1\" class=\"dataframe\">\n",
       "  <thead>\n",
       "    <tr style=\"text-align: right;\">\n",
       "      <th></th>\n",
       "      <th>Pnts</th>\n",
       "      <th>Gols</th>\n",
       "    </tr>\n",
       "  </thead>\n",
       "  <tbody>\n",
       "    <tr>\n",
       "      <th>Pnts</th>\n",
       "      <td>1.000000</td>\n",
       "      <td>0.903953</td>\n",
       "    </tr>\n",
       "    <tr>\n",
       "      <th>Gols</th>\n",
       "      <td>0.903953</td>\n",
       "      <td>1.000000</td>\n",
       "    </tr>\n",
       "  </tbody>\n",
       "</table>\n",
       "</div>"
      ],
      "text/plain": [
       "          Pnts      Gols\n",
       "Pnts  1.000000  0.903953\n",
       "Gols  0.903953  1.000000"
      ]
     },
     "execution_count": 5,
     "metadata": {},
     "output_type": "execute_result"
    }
   ],
   "source": [
    "# ADICIONE O SEU CÓDIGO AQUI\n",
    "import pandas as pd\n",
    "tabela = [[\"Flamengo\",70,68,48],[\"Internacional\",70,61,35],[\"Atlético\",68,64,45],[\"São Paulo\",66,64,45],\n",
    "                       [\"Fluminense\",64,55,42],[\"Grêmio\",59,53,40],[\"Palmeiras\",58,51,37],[\"Santos\",54,52,51],\n",
    "                        [\"Athletico paranaense\",53,38,36],[\"Bull Bragantino\",53,50,40],[\"Ceará\",52,54,51],\n",
    "                       [\"Corinthians\",51,45,45],[\"Atlético-Go\",50,40,45],[\"Bahia\",44,48,59],[\"Sport\",42,31,50],\n",
    "                       [\"Fortaleza\",41,34,44],[\"Vasco\",41,37,56],[\"Goiás\",37,41,64],[\"Coritiba\",31,31,54],\n",
    "                       [\"Botafogo\",27,32,62]]\n",
    "\n",
    "Frametabela = pd.DataFrame(tabela, columns = [\"Times\",\"Pnts\",\"Gols\",\"Gol Sofrido\"]) \n",
    "\n",
    "Frametabela[[\"Pnts\",\"Gols\"]].corr()"
   ]
  },
  {
   "cell_type": "markdown",
   "metadata": {},
   "source": [
    "### Correlação entre Pontos e gols sofridos"
   ]
  },
  {
   "cell_type": "code",
   "execution_count": 6,
   "metadata": {},
   "outputs": [
    {
     "data": {
      "text/html": [
       "<div>\n",
       "<style scoped>\n",
       "    .dataframe tbody tr th:only-of-type {\n",
       "        vertical-align: middle;\n",
       "    }\n",
       "\n",
       "    .dataframe tbody tr th {\n",
       "        vertical-align: top;\n",
       "    }\n",
       "\n",
       "    .dataframe thead th {\n",
       "        text-align: right;\n",
       "    }\n",
       "</style>\n",
       "<table border=\"1\" class=\"dataframe\">\n",
       "  <thead>\n",
       "    <tr style=\"text-align: right;\">\n",
       "      <th></th>\n",
       "      <th>Pnts</th>\n",
       "      <th>Gol Sofrido</th>\n",
       "    </tr>\n",
       "  </thead>\n",
       "  <tbody>\n",
       "    <tr>\n",
       "      <th>Pnts</th>\n",
       "      <td>1.000000</td>\n",
       "      <td>-0.692716</td>\n",
       "    </tr>\n",
       "    <tr>\n",
       "      <th>Gol Sofrido</th>\n",
       "      <td>-0.692716</td>\n",
       "      <td>1.000000</td>\n",
       "    </tr>\n",
       "  </tbody>\n",
       "</table>\n",
       "</div>"
      ],
      "text/plain": [
       "                 Pnts  Gol Sofrido\n",
       "Pnts         1.000000    -0.692716\n",
       "Gol Sofrido -0.692716     1.000000"
      ]
     },
     "execution_count": 6,
     "metadata": {},
     "output_type": "execute_result"
    }
   ],
   "source": [
    "# ADICIONE O SEU CÓDIGO AQUI\n",
    "Frametabela[[\"Pnts\",\"Gol Sofrido\"]].corr()"
   ]
  },
  {
   "cell_type": "markdown",
   "metadata": {},
   "source": [
    "### Análise dos Resultados\n",
    "\n",
    "Qual o nível (fraco, moderado, forte) das correlações entre as variáveis analisadas?"
   ]
  },
  {
   "cell_type": "markdown",
   "metadata": {},
   "source": [
    "**RESPONDA AQUI**"
   ]
  },
  {
   "cell_type": "markdown",
   "metadata": {},
   "source": [
    "R-> A Correlação entre Pontos e Gols Marcados é Muito Forte.\n",
    "    A Correlação entre Pontos e Gols Sofridos é Forte."
   ]
  },
  {
   "cell_type": "markdown",
   "metadata": {},
   "source": [
    "De acordo com os dados analisados, é melhor um time focar em marcar mais gols ou sofrer menos gols?"
   ]
  },
  {
   "cell_type": "markdown",
   "metadata": {},
   "source": [
    "**RESPONDA AQUI**"
   ]
  },
  {
   "cell_type": "markdown",
   "metadata": {},
   "source": [
    "R-> Focar em marcar mais gols tendo em vista que a correlação entre pontos e gols marcados é maior que a correlação entre pontos e gols sofridos."
   ]
  }
 ],
 "metadata": {
  "kernelspec": {
   "display_name": "Python 3",
   "language": "python",
   "name": "python3"
  },
  "language_info": {
   "codemirror_mode": {
    "name": "ipython",
    "version": 3
   },
   "file_extension": ".py",
   "mimetype": "text/x-python",
   "name": "python",
   "nbconvert_exporter": "python",
   "pygments_lexer": "ipython3",
   "version": "3.9.4"
  }
 },
 "nbformat": 4,
 "nbformat_minor": 4
}
