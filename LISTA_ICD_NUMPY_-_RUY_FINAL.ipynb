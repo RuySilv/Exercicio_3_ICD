{
 "cells": [
  {
   "cell_type": "code",
   "execution_count": 34,
   "id": "cbafe850",
   "metadata": {},
   "outputs": [],
   "source": [
    "import numpy as np\n",
    "import math"
   ]
  },
  {
   "cell_type": "code",
   "execution_count": 35,
   "id": "44f0df26",
   "metadata": {},
   "outputs": [],
   "source": [
    "def distance (p1, p2):\n",
    "    p1 = np.array(p1)\n",
    "    p2 = np.array(p2)\n",
    "    dist = math.pow(((p2[0]-p1[0])**2) + ((p2[1]-p1[1])**2),1/2)\n",
    "    return dist"
   ]
  },
  {
   "cell_type": "code",
   "execution_count": 36,
   "id": "c6ca4a39",
   "metadata": {},
   "outputs": [
    {
     "data": {
      "text/plain": [
       "8.94427190999916"
      ]
     },
     "execution_count": 36,
     "metadata": {},
     "output_type": "execute_result"
    }
   ],
   "source": [
    "distance(np.array([5,9]),np.array([1,1]))"
   ]
  },
  {
   "cell_type": "code",
   "execution_count": 37,
   "id": "2edec0f1",
   "metadata": {},
   "outputs": [],
   "source": [
    "# Parte 1 Concluida."
   ]
  },
  {
   "cell_type": "code",
   "execution_count": 38,
   "id": "e75943fe",
   "metadata": {},
   "outputs": [],
   "source": [
    "def n_distances (p1,points):\n",
    "    p1 = np.array(p1)\n",
    "    points = np.array(points)\n",
    "    arraynum = 0\n",
    "    k = len(points)\n",
    "    distancias = []\n",
    "    while (k > 0):\n",
    "        dist = math.pow(((points[arraynum][0]-p1[0])**2) + ((points[arraynum][1]-p1[1])**2),1/2)\n",
    "        arraynum += 1\n",
    "        k -= 1\n",
    "        distancias.append(dist)\n",
    "                        \n",
    "        \n",
    "   \n",
    "    \n",
    "    \n",
    "    \n",
    "    \n",
    "    return distancias"
   ]
  },
  {
   "cell_type": "code",
   "execution_count": 39,
   "id": "1238830d",
   "metadata": {},
   "outputs": [
    {
     "data": {
      "text/plain": [
       "[1.4142135623730951, 2.8284271247461903, 4.242640687119285, 5.656854249492381]"
      ]
     },
     "execution_count": 39,
     "metadata": {},
     "output_type": "execute_result"
    }
   ],
   "source": [
    "n_distances(np.array([0,0]),np.array([[1,1],[2,2],[3,3],[4,4]]))"
   ]
  },
  {
   "cell_type": "code",
   "execution_count": null,
   "id": "cd8a7856",
   "metadata": {},
   "outputs": [],
   "source": [
    "# Parte 2 Concluída."
   ]
  }
 ],
 "metadata": {
  "kernelspec": {
   "display_name": "Python 3",
   "language": "python",
   "name": "python3"
  },
  "language_info": {
   "codemirror_mode": {
    "name": "ipython",
    "version": 3
   },
   "file_extension": ".py",
   "mimetype": "text/x-python",
   "name": "python",
   "nbconvert_exporter": "python",
   "pygments_lexer": "ipython3",
   "version": "3.9.4"
  }
 },
 "nbformat": 4,
 "nbformat_minor": 5
}
